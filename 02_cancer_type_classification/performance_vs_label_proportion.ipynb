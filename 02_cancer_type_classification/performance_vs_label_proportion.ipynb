{
 "cells": [
  {
   "cell_type": "markdown",
   "metadata": {},
   "source": [
    "## Comparison of model performance to label proportion/label entropy"
   ]
  },
  {
   "cell_type": "code",
   "execution_count": 1,
   "metadata": {},
   "outputs": [],
   "source": [
    "import os\n",
    "\n",
    "import numpy as np\n",
    "import pandas as pd\n",
    "import matplotlib.pyplot as plt\n",
    "import seaborn as sns\n",
    "\n",
    "import pancancer_evaluation.config as cfg\n",
    "import pancancer_evaluation.utilities.analysis_utilities as au"
   ]
  },
  {
   "cell_type": "code",
   "execution_count": 6,
   "metadata": {},
   "outputs": [
    {
     "name": "stdout",
     "output_type": "stream",
     "text": [
      "(390, 6)\n"
     ]
    },
    {
     "data": {
      "text/html": [
       "<div>\n",
       "<style scoped>\n",
       "    .dataframe tbody tr th:only-of-type {\n",
       "        vertical-align: middle;\n",
       "    }\n",
       "\n",
       "    .dataframe tbody tr th {\n",
       "        vertical-align: top;\n",
       "    }\n",
       "\n",
       "    .dataframe thead th {\n",
       "        text-align: right;\n",
       "    }\n",
       "</style>\n",
       "<table border=\"1\" class=\"dataframe\">\n",
       "  <thead>\n",
       "    <tr style=\"text-align: right;\">\n",
       "      <th></th>\n",
       "      <th>identifier</th>\n",
       "      <th>delta_mean</th>\n",
       "      <th>p_value</th>\n",
       "      <th>corr_pval</th>\n",
       "      <th>reject_null</th>\n",
       "      <th>nlog10_p</th>\n",
       "    </tr>\n",
       "  </thead>\n",
       "  <tbody>\n",
       "    <tr>\n",
       "      <th>0</th>\n",
       "      <td>ABL1_SKCM</td>\n",
       "      <td>0.084868</td>\n",
       "      <td>0.027112</td>\n",
       "      <td>0.048952</td>\n",
       "      <td>False</td>\n",
       "      <td>3.016922</td>\n",
       "    </tr>\n",
       "    <tr>\n",
       "      <th>1</th>\n",
       "      <td>ALK_COAD</td>\n",
       "      <td>-0.043071</td>\n",
       "      <td>0.424275</td>\n",
       "      <td>0.513873</td>\n",
       "      <td>False</td>\n",
       "      <td>0.665779</td>\n",
       "    </tr>\n",
       "    <tr>\n",
       "      <th>2</th>\n",
       "      <td>ALK_LUAD</td>\n",
       "      <td>-0.035103</td>\n",
       "      <td>0.313670</td>\n",
       "      <td>0.402406</td>\n",
       "      <td>False</td>\n",
       "      <td>0.910294</td>\n",
       "    </tr>\n",
       "    <tr>\n",
       "      <th>3</th>\n",
       "      <td>ALK_UCEC</td>\n",
       "      <td>0.058447</td>\n",
       "      <td>0.304984</td>\n",
       "      <td>0.397806</td>\n",
       "      <td>False</td>\n",
       "      <td>0.921791</td>\n",
       "    </tr>\n",
       "    <tr>\n",
       "      <th>4</th>\n",
       "      <td>APC_BLCA</td>\n",
       "      <td>-0.065498</td>\n",
       "      <td>0.007085</td>\n",
       "      <td>0.014620</td>\n",
       "      <td>False</td>\n",
       "      <td>4.225381</td>\n",
       "    </tr>\n",
       "  </tbody>\n",
       "</table>\n",
       "</div>"
      ],
      "text/plain": [
       "  identifier  delta_mean   p_value  corr_pval  reject_null  nlog10_p\n",
       "0  ABL1_SKCM    0.084868  0.027112   0.048952        False  3.016922\n",
       "1   ALK_COAD   -0.043071  0.424275   0.513873        False  0.665779\n",
       "2   ALK_LUAD   -0.035103  0.313670   0.402406        False  0.910294\n",
       "3   ALK_UCEC    0.058447  0.304984   0.397806        False  0.921791\n",
       "4   APC_BLCA   -0.065498  0.007085   0.014620        False  4.225381"
      ]
     },
     "execution_count": 6,
     "metadata": {},
     "output_type": "execute_result"
    }
   ],
   "source": [
    "single_cancer_comparison_df = pd.read_csv(\n",
    "    os.path.join(cfg.results_dir, 'single_cancer_pvals.tsv'),\n",
    "    index_col=False, sep='\\t'\n",
    ")\n",
    "print(single_cancer_comparison_df.shape)\n",
    "single_cancer_comparison_df.head()"
   ]
  },
  {
   "cell_type": "code",
   "execution_count": 8,
   "metadata": {},
   "outputs": [
    {
     "name": "stdout",
     "output_type": "stream",
     "text": [
      "(393, 6)\n"
     ]
    },
    {
     "data": {
      "text/html": [
       "<div>\n",
       "<style scoped>\n",
       "    .dataframe tbody tr th:only-of-type {\n",
       "        vertical-align: middle;\n",
       "    }\n",
       "\n",
       "    .dataframe tbody tr th {\n",
       "        vertical-align: top;\n",
       "    }\n",
       "\n",
       "    .dataframe thead th {\n",
       "        text-align: right;\n",
       "    }\n",
       "</style>\n",
       "<table border=\"1\" class=\"dataframe\">\n",
       "  <thead>\n",
       "    <tr style=\"text-align: right;\">\n",
       "      <th></th>\n",
       "      <th>identifier</th>\n",
       "      <th>delta_mean</th>\n",
       "      <th>p_value</th>\n",
       "      <th>corr_pval</th>\n",
       "      <th>reject_null</th>\n",
       "      <th>nlog10_p</th>\n",
       "    </tr>\n",
       "  </thead>\n",
       "  <tbody>\n",
       "    <tr>\n",
       "      <th>0</th>\n",
       "      <td>ACVR1B_COAD</td>\n",
       "      <td>0.018692</td>\n",
       "      <td>0.782346</td>\n",
       "      <td>0.830978</td>\n",
       "      <td>False</td>\n",
       "      <td>0.185152</td>\n",
       "    </tr>\n",
       "    <tr>\n",
       "      <th>1</th>\n",
       "      <td>ALK_COAD</td>\n",
       "      <td>0.008053</td>\n",
       "      <td>0.592328</td>\n",
       "      <td>0.667985</td>\n",
       "      <td>False</td>\n",
       "      <td>0.403490</td>\n",
       "    </tr>\n",
       "    <tr>\n",
       "      <th>2</th>\n",
       "      <td>ALK_LUAD</td>\n",
       "      <td>0.043367</td>\n",
       "      <td>0.518181</td>\n",
       "      <td>0.597200</td>\n",
       "      <td>False</td>\n",
       "      <td>0.515504</td>\n",
       "    </tr>\n",
       "    <tr>\n",
       "      <th>3</th>\n",
       "      <td>ALK_SKCM</td>\n",
       "      <td>0.108950</td>\n",
       "      <td>0.020904</td>\n",
       "      <td>0.036839</td>\n",
       "      <td>False</td>\n",
       "      <td>3.301192</td>\n",
       "    </tr>\n",
       "    <tr>\n",
       "      <th>4</th>\n",
       "      <td>ALK_UCEC</td>\n",
       "      <td>-0.012521</td>\n",
       "      <td>0.665790</td>\n",
       "      <td>0.726317</td>\n",
       "      <td>False</td>\n",
       "      <td>0.319769</td>\n",
       "    </tr>\n",
       "  </tbody>\n",
       "</table>\n",
       "</div>"
      ],
      "text/plain": [
       "    identifier  delta_mean   p_value  corr_pval  reject_null  nlog10_p\n",
       "0  ACVR1B_COAD    0.018692  0.782346   0.830978        False  0.185152\n",
       "1     ALK_COAD    0.008053  0.592328   0.667985        False  0.403490\n",
       "2     ALK_LUAD    0.043367  0.518181   0.597200        False  0.515504\n",
       "3     ALK_SKCM    0.108950  0.020904   0.036839        False  3.301192\n",
       "4     ALK_UCEC   -0.012521  0.665790   0.726317        False  0.319769"
      ]
     },
     "execution_count": 8,
     "metadata": {},
     "output_type": "execute_result"
    }
   ],
   "source": [
    "pancancer_comparison_df = pd.read_csv(\n",
    "    os.path.join(cfg.results_dir, 'pancancer_pvals.tsv'),\n",
    "    index_col=False, sep='\\t'\n",
    ")\n",
    "print(pancancer_comparison_df.shape)\n",
    "pancancer_comparison_df.head()"
   ]
  },
  {
   "cell_type": "code",
   "execution_count": null,
   "metadata": {},
   "outputs": [],
   "source": [
    "# TODO: verify sample sizes are actually accurate\n",
    "#\n",
    "# goal: identify examples that outperform their prediction based on train set size/label imbalance\n",
    "# (could do IRLS/robust regression for this?)\n",
    "single_cancer_results_dir = os.path.join(results_dir, 'single_cancer')\n",
    "pancancer_results_dir = os.path.join(results_dir, 'pancancer')\n",
    "\n",
    "single_cancer_info_df = au.add_id_info(single_cancer_info_df, single_cancer_results_dir\n",
    "pancancer_info_df = au.add_id_info(pancancer_info_df, pancancer_results_dir, use_pancancer=True)"
   ]
  }
 ],
 "metadata": {
  "kernelspec": {
   "display_name": "Python [conda env:pancancer-evaluation]",
   "language": "python",
   "name": "conda-env-pancancer-evaluation-py"
  },
  "language_info": {
   "codemirror_mode": {
    "name": "ipython",
    "version": 3
   },
   "file_extension": ".py",
   "mimetype": "text/x-python",
   "name": "python",
   "nbconvert_exporter": "python",
   "pygments_lexer": "ipython3",
   "version": "3.6.9"
  }
 },
 "nbformat": 4,
 "nbformat_minor": 4
}
